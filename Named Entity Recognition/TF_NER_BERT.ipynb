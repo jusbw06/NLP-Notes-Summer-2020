{
  "nbformat": 4,
  "nbformat_minor": 0,
  "metadata": {
    "colab": {
      "name": "TF NER BERT.ipynb",
      "provenance": []
    },
    "kernelspec": {
      "name": "python3",
      "display_name": "Python 3"
    },
    "widgets": {
      "application/vnd.jupyter.widget-state+json": {
        "7fc577d9d9704801aa06fed4a2b54e05": {
          "model_module": "@jupyter-widgets/controls",
          "model_name": "HBoxModel",
          "state": {
            "_view_name": "HBoxView",
            "_dom_classes": [],
            "_model_name": "HBoxModel",
            "_view_module": "@jupyter-widgets/controls",
            "_model_module_version": "1.5.0",
            "_view_count": null,
            "_view_module_version": "1.5.0",
            "box_style": "",
            "layout": "IPY_MODEL_392a8ed3ce524979aab012f4994640dd",
            "_model_module": "@jupyter-widgets/controls",
            "children": [
              "IPY_MODEL_1c705e33bff346f1889fa65c566a1776",
              "IPY_MODEL_d4735d3a734b4d588daa48c123ce1468"
            ]
          }
        },
        "392a8ed3ce524979aab012f4994640dd": {
          "model_module": "@jupyter-widgets/base",
          "model_name": "LayoutModel",
          "state": {
            "_view_name": "LayoutView",
            "grid_template_rows": null,
            "right": null,
            "justify_content": null,
            "_view_module": "@jupyter-widgets/base",
            "overflow": null,
            "_model_module_version": "1.2.0",
            "_view_count": null,
            "flex_flow": null,
            "width": null,
            "min_width": null,
            "border": null,
            "align_items": null,
            "bottom": null,
            "_model_module": "@jupyter-widgets/base",
            "top": null,
            "grid_column": null,
            "overflow_y": null,
            "overflow_x": null,
            "grid_auto_flow": null,
            "grid_area": null,
            "grid_template_columns": null,
            "flex": null,
            "_model_name": "LayoutModel",
            "justify_items": null,
            "grid_row": null,
            "max_height": null,
            "align_content": null,
            "visibility": null,
            "align_self": null,
            "height": null,
            "min_height": null,
            "padding": null,
            "grid_auto_rows": null,
            "grid_gap": null,
            "max_width": null,
            "order": null,
            "_view_module_version": "1.2.0",
            "grid_template_areas": null,
            "object_position": null,
            "object_fit": null,
            "grid_auto_columns": null,
            "margin": null,
            "display": null,
            "left": null
          }
        },
        "1c705e33bff346f1889fa65c566a1776": {
          "model_module": "@jupyter-widgets/controls",
          "model_name": "FloatProgressModel",
          "state": {
            "_view_name": "ProgressView",
            "style": "IPY_MODEL_7566269ef3c749aa8ec984d8e74d47ee",
            "_dom_classes": [],
            "description": "Downloading: 100%",
            "_model_name": "FloatProgressModel",
            "bar_style": "success",
            "max": 213450,
            "_view_module": "@jupyter-widgets/controls",
            "_model_module_version": "1.5.0",
            "value": 213450,
            "_view_count": null,
            "_view_module_version": "1.5.0",
            "orientation": "horizontal",
            "min": 0,
            "description_tooltip": null,
            "_model_module": "@jupyter-widgets/controls",
            "layout": "IPY_MODEL_d579a9edf66a4fb381066b3b8f242350"
          }
        },
        "d4735d3a734b4d588daa48c123ce1468": {
          "model_module": "@jupyter-widgets/controls",
          "model_name": "HTMLModel",
          "state": {
            "_view_name": "HTMLView",
            "style": "IPY_MODEL_97436c3c698d4bbc8a3f65e1c6386a7d",
            "_dom_classes": [],
            "description": "",
            "_model_name": "HTMLModel",
            "placeholder": "​",
            "_view_module": "@jupyter-widgets/controls",
            "_model_module_version": "1.5.0",
            "value": " 213k/213k [00:00&lt;00:00, 369kB/s]",
            "_view_count": null,
            "_view_module_version": "1.5.0",
            "description_tooltip": null,
            "_model_module": "@jupyter-widgets/controls",
            "layout": "IPY_MODEL_f2ca539742d34d79a2005a8c97810240"
          }
        },
        "7566269ef3c749aa8ec984d8e74d47ee": {
          "model_module": "@jupyter-widgets/controls",
          "model_name": "ProgressStyleModel",
          "state": {
            "_view_name": "StyleView",
            "_model_name": "ProgressStyleModel",
            "description_width": "initial",
            "_view_module": "@jupyter-widgets/base",
            "_model_module_version": "1.5.0",
            "_view_count": null,
            "_view_module_version": "1.2.0",
            "bar_color": null,
            "_model_module": "@jupyter-widgets/controls"
          }
        },
        "d579a9edf66a4fb381066b3b8f242350": {
          "model_module": "@jupyter-widgets/base",
          "model_name": "LayoutModel",
          "state": {
            "_view_name": "LayoutView",
            "grid_template_rows": null,
            "right": null,
            "justify_content": null,
            "_view_module": "@jupyter-widgets/base",
            "overflow": null,
            "_model_module_version": "1.2.0",
            "_view_count": null,
            "flex_flow": null,
            "width": null,
            "min_width": null,
            "border": null,
            "align_items": null,
            "bottom": null,
            "_model_module": "@jupyter-widgets/base",
            "top": null,
            "grid_column": null,
            "overflow_y": null,
            "overflow_x": null,
            "grid_auto_flow": null,
            "grid_area": null,
            "grid_template_columns": null,
            "flex": null,
            "_model_name": "LayoutModel",
            "justify_items": null,
            "grid_row": null,
            "max_height": null,
            "align_content": null,
            "visibility": null,
            "align_self": null,
            "height": null,
            "min_height": null,
            "padding": null,
            "grid_auto_rows": null,
            "grid_gap": null,
            "max_width": null,
            "order": null,
            "_view_module_version": "1.2.0",
            "grid_template_areas": null,
            "object_position": null,
            "object_fit": null,
            "grid_auto_columns": null,
            "margin": null,
            "display": null,
            "left": null
          }
        },
        "97436c3c698d4bbc8a3f65e1c6386a7d": {
          "model_module": "@jupyter-widgets/controls",
          "model_name": "DescriptionStyleModel",
          "state": {
            "_view_name": "StyleView",
            "_model_name": "DescriptionStyleModel",
            "description_width": "",
            "_view_module": "@jupyter-widgets/base",
            "_model_module_version": "1.5.0",
            "_view_count": null,
            "_view_module_version": "1.2.0",
            "_model_module": "@jupyter-widgets/controls"
          }
        },
        "f2ca539742d34d79a2005a8c97810240": {
          "model_module": "@jupyter-widgets/base",
          "model_name": "LayoutModel",
          "state": {
            "_view_name": "LayoutView",
            "grid_template_rows": null,
            "right": null,
            "justify_content": null,
            "_view_module": "@jupyter-widgets/base",
            "overflow": null,
            "_model_module_version": "1.2.0",
            "_view_count": null,
            "flex_flow": null,
            "width": null,
            "min_width": null,
            "border": null,
            "align_items": null,
            "bottom": null,
            "_model_module": "@jupyter-widgets/base",
            "top": null,
            "grid_column": null,
            "overflow_y": null,
            "overflow_x": null,
            "grid_auto_flow": null,
            "grid_area": null,
            "grid_template_columns": null,
            "flex": null,
            "_model_name": "LayoutModel",
            "justify_items": null,
            "grid_row": null,
            "max_height": null,
            "align_content": null,
            "visibility": null,
            "align_self": null,
            "height": null,
            "min_height": null,
            "padding": null,
            "grid_auto_rows": null,
            "grid_gap": null,
            "max_width": null,
            "order": null,
            "_view_module_version": "1.2.0",
            "grid_template_areas": null,
            "object_position": null,
            "object_fit": null,
            "grid_auto_columns": null,
            "margin": null,
            "display": null,
            "left": null
          }
        },
        "ae907dfa564a4f1c92c4ca8d89e0af9f": {
          "model_module": "@jupyter-widgets/controls",
          "model_name": "HBoxModel",
          "state": {
            "_view_name": "HBoxView",
            "_dom_classes": [],
            "_model_name": "HBoxModel",
            "_view_module": "@jupyter-widgets/controls",
            "_model_module_version": "1.5.0",
            "_view_count": null,
            "_view_module_version": "1.5.0",
            "box_style": "",
            "layout": "IPY_MODEL_427ac56d526b427995a010f3e007f5c3",
            "_model_module": "@jupyter-widgets/controls",
            "children": [
              "IPY_MODEL_615b0c23ac5c42be9d4b2c36648429c4",
              "IPY_MODEL_2825dfdad37d453c8ad185ab39f5fac6"
            ]
          }
        },
        "427ac56d526b427995a010f3e007f5c3": {
          "model_module": "@jupyter-widgets/base",
          "model_name": "LayoutModel",
          "state": {
            "_view_name": "LayoutView",
            "grid_template_rows": null,
            "right": null,
            "justify_content": null,
            "_view_module": "@jupyter-widgets/base",
            "overflow": null,
            "_model_module_version": "1.2.0",
            "_view_count": null,
            "flex_flow": null,
            "width": null,
            "min_width": null,
            "border": null,
            "align_items": null,
            "bottom": null,
            "_model_module": "@jupyter-widgets/base",
            "top": null,
            "grid_column": null,
            "overflow_y": null,
            "overflow_x": null,
            "grid_auto_flow": null,
            "grid_area": null,
            "grid_template_columns": null,
            "flex": null,
            "_model_name": "LayoutModel",
            "justify_items": null,
            "grid_row": null,
            "max_height": null,
            "align_content": null,
            "visibility": null,
            "align_self": null,
            "height": null,
            "min_height": null,
            "padding": null,
            "grid_auto_rows": null,
            "grid_gap": null,
            "max_width": null,
            "order": null,
            "_view_module_version": "1.2.0",
            "grid_template_areas": null,
            "object_position": null,
            "object_fit": null,
            "grid_auto_columns": null,
            "margin": null,
            "display": null,
            "left": null
          }
        },
        "615b0c23ac5c42be9d4b2c36648429c4": {
          "model_module": "@jupyter-widgets/controls",
          "model_name": "FloatProgressModel",
          "state": {
            "_view_name": "ProgressView",
            "style": "IPY_MODEL_f8f506e073b34ee48ccfc7cac8b3f6d5",
            "_dom_classes": [],
            "description": "Downloading: 100%",
            "_model_name": "FloatProgressModel",
            "bar_style": "success",
            "max": 433,
            "_view_module": "@jupyter-widgets/controls",
            "_model_module_version": "1.5.0",
            "value": 433,
            "_view_count": null,
            "_view_module_version": "1.5.0",
            "orientation": "horizontal",
            "min": 0,
            "description_tooltip": null,
            "_model_module": "@jupyter-widgets/controls",
            "layout": "IPY_MODEL_87543c75ea6b4bc8a6a3a59ea0044d8b"
          }
        },
        "2825dfdad37d453c8ad185ab39f5fac6": {
          "model_module": "@jupyter-widgets/controls",
          "model_name": "HTMLModel",
          "state": {
            "_view_name": "HTMLView",
            "style": "IPY_MODEL_262637b42d314df8baca7178d23df0ec",
            "_dom_classes": [],
            "description": "",
            "_model_name": "HTMLModel",
            "placeholder": "​",
            "_view_module": "@jupyter-widgets/controls",
            "_model_module_version": "1.5.0",
            "value": " 433/433 [00:08&lt;00:00, 51.3B/s]",
            "_view_count": null,
            "_view_module_version": "1.5.0",
            "description_tooltip": null,
            "_model_module": "@jupyter-widgets/controls",
            "layout": "IPY_MODEL_a8eb9e32a0934049974a9d0545855183"
          }
        },
        "f8f506e073b34ee48ccfc7cac8b3f6d5": {
          "model_module": "@jupyter-widgets/controls",
          "model_name": "ProgressStyleModel",
          "state": {
            "_view_name": "StyleView",
            "_model_name": "ProgressStyleModel",
            "description_width": "initial",
            "_view_module": "@jupyter-widgets/base",
            "_model_module_version": "1.5.0",
            "_view_count": null,
            "_view_module_version": "1.2.0",
            "bar_color": null,
            "_model_module": "@jupyter-widgets/controls"
          }
        },
        "87543c75ea6b4bc8a6a3a59ea0044d8b": {
          "model_module": "@jupyter-widgets/base",
          "model_name": "LayoutModel",
          "state": {
            "_view_name": "LayoutView",
            "grid_template_rows": null,
            "right": null,
            "justify_content": null,
            "_view_module": "@jupyter-widgets/base",
            "overflow": null,
            "_model_module_version": "1.2.0",
            "_view_count": null,
            "flex_flow": null,
            "width": null,
            "min_width": null,
            "border": null,
            "align_items": null,
            "bottom": null,
            "_model_module": "@jupyter-widgets/base",
            "top": null,
            "grid_column": null,
            "overflow_y": null,
            "overflow_x": null,
            "grid_auto_flow": null,
            "grid_area": null,
            "grid_template_columns": null,
            "flex": null,
            "_model_name": "LayoutModel",
            "justify_items": null,
            "grid_row": null,
            "max_height": null,
            "align_content": null,
            "visibility": null,
            "align_self": null,
            "height": null,
            "min_height": null,
            "padding": null,
            "grid_auto_rows": null,
            "grid_gap": null,
            "max_width": null,
            "order": null,
            "_view_module_version": "1.2.0",
            "grid_template_areas": null,
            "object_position": null,
            "object_fit": null,
            "grid_auto_columns": null,
            "margin": null,
            "display": null,
            "left": null
          }
        },
        "262637b42d314df8baca7178d23df0ec": {
          "model_module": "@jupyter-widgets/controls",
          "model_name": "DescriptionStyleModel",
          "state": {
            "_view_name": "StyleView",
            "_model_name": "DescriptionStyleModel",
            "description_width": "",
            "_view_module": "@jupyter-widgets/base",
            "_model_module_version": "1.5.0",
            "_view_count": null,
            "_view_module_version": "1.2.0",
            "_model_module": "@jupyter-widgets/controls"
          }
        },
        "a8eb9e32a0934049974a9d0545855183": {
          "model_module": "@jupyter-widgets/base",
          "model_name": "LayoutModel",
          "state": {
            "_view_name": "LayoutView",
            "grid_template_rows": null,
            "right": null,
            "justify_content": null,
            "_view_module": "@jupyter-widgets/base",
            "overflow": null,
            "_model_module_version": "1.2.0",
            "_view_count": null,
            "flex_flow": null,
            "width": null,
            "min_width": null,
            "border": null,
            "align_items": null,
            "bottom": null,
            "_model_module": "@jupyter-widgets/base",
            "top": null,
            "grid_column": null,
            "overflow_y": null,
            "overflow_x": null,
            "grid_auto_flow": null,
            "grid_area": null,
            "grid_template_columns": null,
            "flex": null,
            "_model_name": "LayoutModel",
            "justify_items": null,
            "grid_row": null,
            "max_height": null,
            "align_content": null,
            "visibility": null,
            "align_self": null,
            "height": null,
            "min_height": null,
            "padding": null,
            "grid_auto_rows": null,
            "grid_gap": null,
            "max_width": null,
            "order": null,
            "_view_module_version": "1.2.0",
            "grid_template_areas": null,
            "object_position": null,
            "object_fit": null,
            "grid_auto_columns": null,
            "margin": null,
            "display": null,
            "left": null
          }
        },
        "81aede3d925544d7a4b090d4e6b832d9": {
          "model_module": "@jupyter-widgets/controls",
          "model_name": "HBoxModel",
          "state": {
            "_view_name": "HBoxView",
            "_dom_classes": [],
            "_model_name": "HBoxModel",
            "_view_module": "@jupyter-widgets/controls",
            "_model_module_version": "1.5.0",
            "_view_count": null,
            "_view_module_version": "1.5.0",
            "box_style": "",
            "layout": "IPY_MODEL_e96a8701e6c843df8110c1ae9d8e4e9c",
            "_model_module": "@jupyter-widgets/controls",
            "children": [
              "IPY_MODEL_a51a5c92fe514f36a08c9afb33d1ac16",
              "IPY_MODEL_c0713401aeb34f4385c6572381a1ead7"
            ]
          }
        },
        "e96a8701e6c843df8110c1ae9d8e4e9c": {
          "model_module": "@jupyter-widgets/base",
          "model_name": "LayoutModel",
          "state": {
            "_view_name": "LayoutView",
            "grid_template_rows": null,
            "right": null,
            "justify_content": null,
            "_view_module": "@jupyter-widgets/base",
            "overflow": null,
            "_model_module_version": "1.2.0",
            "_view_count": null,
            "flex_flow": null,
            "width": null,
            "min_width": null,
            "border": null,
            "align_items": null,
            "bottom": null,
            "_model_module": "@jupyter-widgets/base",
            "top": null,
            "grid_column": null,
            "overflow_y": null,
            "overflow_x": null,
            "grid_auto_flow": null,
            "grid_area": null,
            "grid_template_columns": null,
            "flex": null,
            "_model_name": "LayoutModel",
            "justify_items": null,
            "grid_row": null,
            "max_height": null,
            "align_content": null,
            "visibility": null,
            "align_self": null,
            "height": null,
            "min_height": null,
            "padding": null,
            "grid_auto_rows": null,
            "grid_gap": null,
            "max_width": null,
            "order": null,
            "_view_module_version": "1.2.0",
            "grid_template_areas": null,
            "object_position": null,
            "object_fit": null,
            "grid_auto_columns": null,
            "margin": null,
            "display": null,
            "left": null
          }
        },
        "a51a5c92fe514f36a08c9afb33d1ac16": {
          "model_module": "@jupyter-widgets/controls",
          "model_name": "FloatProgressModel",
          "state": {
            "_view_name": "ProgressView",
            "style": "IPY_MODEL_9546c88ff0994eb28b18f52e8614a540",
            "_dom_classes": [],
            "description": "Downloading: 100%",
            "_model_name": "FloatProgressModel",
            "bar_style": "success",
            "max": 526681800,
            "_view_module": "@jupyter-widgets/controls",
            "_model_module_version": "1.5.0",
            "value": 526681800,
            "_view_count": null,
            "_view_module_version": "1.5.0",
            "orientation": "horizontal",
            "min": 0,
            "description_tooltip": null,
            "_model_module": "@jupyter-widgets/controls",
            "layout": "IPY_MODEL_e7fa2656c5404a9ca2412496683069c3"
          }
        },
        "c0713401aeb34f4385c6572381a1ead7": {
          "model_module": "@jupyter-widgets/controls",
          "model_name": "HTMLModel",
          "state": {
            "_view_name": "HTMLView",
            "style": "IPY_MODEL_e922941db92d4338a6d757d675dd2832",
            "_dom_classes": [],
            "description": "",
            "_model_name": "HTMLModel",
            "placeholder": "​",
            "_view_module": "@jupyter-widgets/controls",
            "_model_module_version": "1.5.0",
            "value": " 527M/527M [00:08&lt;00:00, 65.8MB/s]",
            "_view_count": null,
            "_view_module_version": "1.5.0",
            "description_tooltip": null,
            "_model_module": "@jupyter-widgets/controls",
            "layout": "IPY_MODEL_aba3cbdde5724091aa731876a453a999"
          }
        },
        "9546c88ff0994eb28b18f52e8614a540": {
          "model_module": "@jupyter-widgets/controls",
          "model_name": "ProgressStyleModel",
          "state": {
            "_view_name": "StyleView",
            "_model_name": "ProgressStyleModel",
            "description_width": "initial",
            "_view_module": "@jupyter-widgets/base",
            "_model_module_version": "1.5.0",
            "_view_count": null,
            "_view_module_version": "1.2.0",
            "bar_color": null,
            "_model_module": "@jupyter-widgets/controls"
          }
        },
        "e7fa2656c5404a9ca2412496683069c3": {
          "model_module": "@jupyter-widgets/base",
          "model_name": "LayoutModel",
          "state": {
            "_view_name": "LayoutView",
            "grid_template_rows": null,
            "right": null,
            "justify_content": null,
            "_view_module": "@jupyter-widgets/base",
            "overflow": null,
            "_model_module_version": "1.2.0",
            "_view_count": null,
            "flex_flow": null,
            "width": null,
            "min_width": null,
            "border": null,
            "align_items": null,
            "bottom": null,
            "_model_module": "@jupyter-widgets/base",
            "top": null,
            "grid_column": null,
            "overflow_y": null,
            "overflow_x": null,
            "grid_auto_flow": null,
            "grid_area": null,
            "grid_template_columns": null,
            "flex": null,
            "_model_name": "LayoutModel",
            "justify_items": null,
            "grid_row": null,
            "max_height": null,
            "align_content": null,
            "visibility": null,
            "align_self": null,
            "height": null,
            "min_height": null,
            "padding": null,
            "grid_auto_rows": null,
            "grid_gap": null,
            "max_width": null,
            "order": null,
            "_view_module_version": "1.2.0",
            "grid_template_areas": null,
            "object_position": null,
            "object_fit": null,
            "grid_auto_columns": null,
            "margin": null,
            "display": null,
            "left": null
          }
        },
        "e922941db92d4338a6d757d675dd2832": {
          "model_module": "@jupyter-widgets/controls",
          "model_name": "DescriptionStyleModel",
          "state": {
            "_view_name": "StyleView",
            "_model_name": "DescriptionStyleModel",
            "description_width": "",
            "_view_module": "@jupyter-widgets/base",
            "_model_module_version": "1.5.0",
            "_view_count": null,
            "_view_module_version": "1.2.0",
            "_model_module": "@jupyter-widgets/controls"
          }
        },
        "aba3cbdde5724091aa731876a453a999": {
          "model_module": "@jupyter-widgets/base",
          "model_name": "LayoutModel",
          "state": {
            "_view_name": "LayoutView",
            "grid_template_rows": null,
            "right": null,
            "justify_content": null,
            "_view_module": "@jupyter-widgets/base",
            "overflow": null,
            "_model_module_version": "1.2.0",
            "_view_count": null,
            "flex_flow": null,
            "width": null,
            "min_width": null,
            "border": null,
            "align_items": null,
            "bottom": null,
            "_model_module": "@jupyter-widgets/base",
            "top": null,
            "grid_column": null,
            "overflow_y": null,
            "overflow_x": null,
            "grid_auto_flow": null,
            "grid_area": null,
            "grid_template_columns": null,
            "flex": null,
            "_model_name": "LayoutModel",
            "justify_items": null,
            "grid_row": null,
            "max_height": null,
            "align_content": null,
            "visibility": null,
            "align_self": null,
            "height": null,
            "min_height": null,
            "padding": null,
            "grid_auto_rows": null,
            "grid_gap": null,
            "max_width": null,
            "order": null,
            "_view_module_version": "1.2.0",
            "grid_template_areas": null,
            "object_position": null,
            "object_fit": null,
            "grid_auto_columns": null,
            "margin": null,
            "display": null,
            "left": null
          }
        }
      }
    }
  },
  "cells": [
    {
      "cell_type": "markdown",
      "metadata": {
        "id": "f3rYmYSqRKzx",
        "colab_type": "text"
      },
      "source": [
        "# Named Entity Recognition Outline -- TF\n",
        "This script was written to be an outline for anyone attempting to apply NER to a dataset using the Tensorflow framework and HuggingFace. \n",
        "\n",
        "It is important to understand that the model will take in the basic 3 BERT inputs: `input_ids`, `attention_mask`, and `token_type_ids` and will output a tensor `label_ids`. All tensors should be of length 512. The values of `label_ids` are the predicted entity classifications of `input_ids`. For example:\n",
        "\n",
        "if `input_ids[5] = word_to_id(\"Edinburgh\")`,\n",
        "\n",
        "then `label_ids[5] = category_to_id(\"CITY\")`\n",
        "\n",
        "Thus, `label_ids` (before encoding) should look something like, `[\"O\", \"CITY\", \"O\", \"NAME\", \"O\", ...]` where \"O\" stands for \"outside of entity\". But, of course `label_ids` should be a numerical tensor, encoded like this `[0, 1, 0, 2, 0, ...]` where `{0:\"O\", 1:\"CITY\", 2:\"NAME\"}`. Because we are not using one-hot encoding in the previous tensor, we must use `sparse categorical crossentropy` for our `loss` and `metrics` during model compilation.\n",
        "\n",
        "One of the most important things to consider in the NER classification process is the data preprocessing stage. In order to train a BERT NER model, one must provide their own y-values or `label_ids`. The default BERT tokenizer will split up unknown words into smaller pieces, prepending \"##\" to the token to signify a broken-up word. When this happens, we must somehow be able to detect this and allow the entity label to span multiple indexes. For example, if \"Edinburgh\" were split into `[..., \"Edin\", \"##burgh\", ...]`, we would need to add two \"CITY\" labels instead of one, like this `[..., \"CITY\", \"CITY\", ...]`. Furthermore, the default tokenizer splits up punctuation and gives punctuation their own token ids. We must also be able to detect punction and assign \"O\", or \"outside of entity\" label ids to these tokens. I added this functionality to `entity_label_adjustment` within this notebook."
      ]
    },
    {
      "cell_type": "markdown",
      "metadata": {
        "id": "IyFNtWtuRctl",
        "colab_type": "text"
      },
      "source": [
        "## Functions"
      ]
    },
    {
      "cell_type": "code",
      "metadata": {
        "id": "bLvpK0-NNAkS",
        "colab_type": "code",
        "cellView": "form",
        "colab": {}
      },
      "source": [
        "#@title Progress Counter:\n",
        "#@markdown class/function to print percentage progress after each iteration in loop\n",
        "\n",
        "# Progress Counter\n",
        "import sys\n",
        "\n",
        "class progressCounter():\n",
        "\n",
        "  def __init__(self, num_iterations):\n",
        "    self.progress = 0\n",
        "    self.N = num_iterations\n",
        "    self.calls = 0\n",
        "\n",
        "  def check_pt(self):\n",
        "    self.calls+=1\n",
        "    curr_progress = int(self.calls/(self.N-1) * 100)\n",
        "    if curr_progress - self.progress > 0:\n",
        "      self.progress = curr_progress\n",
        "      sys.stdout.write(\"\\rProgress: {0}%\".format(self.progress))\n",
        "      sys.stdout.flush()"
      ],
      "execution_count": null,
      "outputs": []
    },
    {
      "cell_type": "code",
      "metadata": {
        "id": "yXnIDQgQ2KsL",
        "colab_type": "code",
        "cellView": "form",
        "colab": {}
      },
      "source": [
        "#@title BERT tokenizer entity label adjustment function\n",
        "#@markdown function to detect and expand entity labels to take into account punctuation and words split-up by tokenizer\n",
        "\n",
        "#@markdown when function detects punctuation or BERT special tokens, function applies label 'O', or \"outside of entity\"\n",
        "\n",
        "#@markdown when function detects split-up word (Ex. `[..., Yu, ##k, ##ko, ...]`), function splits label three ways (Ex. `[..., NAME, NAME, NAME, ...]`)\n",
        "\n",
        "import re\n",
        "import string\n",
        "# takes in a list of input_ids and a list of entity labels and adapts entity label array to tokenizer\n",
        "def entity_label_adjustment(seq_input_ids, seq_labels, tokenizer, label_dict):\n",
        "  special_tokens = ['[CLS]', '[SEP]', '[PAD]']\n",
        "  seq_labels = seq_labels.copy()\n",
        "  seq_tokens = tokenizer.convert_ids_to_tokens(seq_input_ids)\n",
        "  for i in range(len(seq_tokens)):\n",
        "    if seq_tokens[i] in special_tokens or seq_tokens[i] in string.punctuation: # defnitely outside of entity\n",
        "      seq_labels.insert(i, label_dict[\"O\"])\n",
        "      continue\n",
        "    m = re.search(\"^##[a-zA-Z]\", seq_tokens[i])\n",
        "    if m != None:\n",
        "      seq_labels.insert(i, seq_labels[i-1])\n",
        "  return seq_labels"
      ],
      "execution_count": null,
      "outputs": []
    },
    {
      "cell_type": "markdown",
      "metadata": {
        "id": "56y-Gm_gRkcQ",
        "colab_type": "text"
      },
      "source": [
        "## Import NER Classifier & Tokenizer"
      ]
    },
    {
      "cell_type": "code",
      "metadata": {
        "id": "2S0kVwA1vMRt",
        "colab_type": "code",
        "colab": {
          "base_uri": "https://localhost:8080/",
          "height": 1000,
          "referenced_widgets": [
            "7fc577d9d9704801aa06fed4a2b54e05",
            "392a8ed3ce524979aab012f4994640dd",
            "1c705e33bff346f1889fa65c566a1776",
            "d4735d3a734b4d588daa48c123ce1468",
            "7566269ef3c749aa8ec984d8e74d47ee",
            "d579a9edf66a4fb381066b3b8f242350",
            "97436c3c698d4bbc8a3f65e1c6386a7d",
            "f2ca539742d34d79a2005a8c97810240",
            "ae907dfa564a4f1c92c4ca8d89e0af9f",
            "427ac56d526b427995a010f3e007f5c3",
            "615b0c23ac5c42be9d4b2c36648429c4",
            "2825dfdad37d453c8ad185ab39f5fac6",
            "f8f506e073b34ee48ccfc7cac8b3f6d5",
            "87543c75ea6b4bc8a6a3a59ea0044d8b",
            "262637b42d314df8baca7178d23df0ec",
            "a8eb9e32a0934049974a9d0545855183",
            "81aede3d925544d7a4b090d4e6b832d9",
            "e96a8701e6c843df8110c1ae9d8e4e9c",
            "a51a5c92fe514f36a08c9afb33d1ac16",
            "c0713401aeb34f4385c6572381a1ead7",
            "9546c88ff0994eb28b18f52e8614a540",
            "e7fa2656c5404a9ca2412496683069c3",
            "e922941db92d4338a6d757d675dd2832",
            "aba3cbdde5724091aa731876a453a999"
          ]
        },
        "outputId": "fd70b635-3cae-4fbc-f656-dd463638e922"
      },
      "source": [
        "!pip install transformers\n",
        "from transformers import BertTokenizer, TFBertForTokenClassification\n",
        "import tensorflow as tf\n",
        "tokenizer = BertTokenizer.from_pretrained('bert-base-cased')\n",
        "model = TFBertForTokenClassification.from_pretrained(\"bert-base-cased\", output_attentions = False, output_hidden_states = False, num_labels=3) # <-- number labels required to equal number of labels in dataset"
      ],
      "execution_count": null,
      "outputs": [
        {
          "output_type": "stream",
          "text": [
            "Collecting transformers\n",
            "\u001b[?25l  Downloading https://files.pythonhosted.org/packages/ae/05/c8c55b600308dc04e95100dc8ad8a244dd800fe75dfafcf1d6348c6f6209/transformers-3.1.0-py3-none-any.whl (884kB)\n",
            "\u001b[K     |████████████████████████████████| 890kB 2.8MB/s \n",
            "\u001b[?25hRequirement already satisfied: filelock in /usr/local/lib/python3.6/dist-packages (from transformers) (3.0.12)\n",
            "Collecting sacremoses\n",
            "\u001b[?25l  Downloading https://files.pythonhosted.org/packages/7d/34/09d19aff26edcc8eb2a01bed8e98f13a1537005d31e95233fd48216eed10/sacremoses-0.0.43.tar.gz (883kB)\n",
            "\u001b[K     |████████████████████████████████| 890kB 9.4MB/s \n",
            "\u001b[?25hRequirement already satisfied: packaging in /usr/local/lib/python3.6/dist-packages (from transformers) (20.4)\n",
            "Collecting tokenizers==0.8.1.rc2\n",
            "\u001b[?25l  Downloading https://files.pythonhosted.org/packages/80/83/8b9fccb9e48eeb575ee19179e2bdde0ee9a1904f97de5f02d19016b8804f/tokenizers-0.8.1rc2-cp36-cp36m-manylinux1_x86_64.whl (3.0MB)\n",
            "\u001b[K     |████████████████████████████████| 3.0MB 16.7MB/s \n",
            "\u001b[?25hRequirement already satisfied: tqdm>=4.27 in /usr/local/lib/python3.6/dist-packages (from transformers) (4.41.1)\n",
            "Requirement already satisfied: regex!=2019.12.17 in /usr/local/lib/python3.6/dist-packages (from transformers) (2019.12.20)\n",
            "Requirement already satisfied: numpy in /usr/local/lib/python3.6/dist-packages (from transformers) (1.18.5)\n",
            "Collecting sentencepiece!=0.1.92\n",
            "\u001b[?25l  Downloading https://files.pythonhosted.org/packages/d4/a4/d0a884c4300004a78cca907a6ff9a5e9fe4f090f5d95ab341c53d28cbc58/sentencepiece-0.1.91-cp36-cp36m-manylinux1_x86_64.whl (1.1MB)\n",
            "\u001b[K     |████████████████████████████████| 1.1MB 44.7MB/s \n",
            "\u001b[?25hRequirement already satisfied: dataclasses; python_version < \"3.7\" in /usr/local/lib/python3.6/dist-packages (from transformers) (0.7)\n",
            "Requirement already satisfied: requests in /usr/local/lib/python3.6/dist-packages (from transformers) (2.23.0)\n",
            "Requirement already satisfied: six in /usr/local/lib/python3.6/dist-packages (from sacremoses->transformers) (1.15.0)\n",
            "Requirement already satisfied: click in /usr/local/lib/python3.6/dist-packages (from sacremoses->transformers) (7.1.2)\n",
            "Requirement already satisfied: joblib in /usr/local/lib/python3.6/dist-packages (from sacremoses->transformers) (0.16.0)\n",
            "Requirement already satisfied: pyparsing>=2.0.2 in /usr/local/lib/python3.6/dist-packages (from packaging->transformers) (2.4.7)\n",
            "Requirement already satisfied: urllib3!=1.25.0,!=1.25.1,<1.26,>=1.21.1 in /usr/local/lib/python3.6/dist-packages (from requests->transformers) (1.24.3)\n",
            "Requirement already satisfied: idna<3,>=2.5 in /usr/local/lib/python3.6/dist-packages (from requests->transformers) (2.10)\n",
            "Requirement already satisfied: certifi>=2017.4.17 in /usr/local/lib/python3.6/dist-packages (from requests->transformers) (2020.6.20)\n",
            "Requirement already satisfied: chardet<4,>=3.0.2 in /usr/local/lib/python3.6/dist-packages (from requests->transformers) (3.0.4)\n",
            "Building wheels for collected packages: sacremoses\n",
            "  Building wheel for sacremoses (setup.py) ... \u001b[?25l\u001b[?25hdone\n",
            "  Created wheel for sacremoses: filename=sacremoses-0.0.43-cp36-none-any.whl size=893257 sha256=d4cfd82274edc38b413c9d38b58f2dfcda32ff27e63ff0b662b9b09e51a0a06f\n",
            "  Stored in directory: /root/.cache/pip/wheels/29/3c/fd/7ce5c3f0666dab31a50123635e6fb5e19ceb42ce38d4e58f45\n",
            "Successfully built sacremoses\n",
            "Installing collected packages: sacremoses, tokenizers, sentencepiece, transformers\n",
            "Successfully installed sacremoses-0.0.43 sentencepiece-0.1.91 tokenizers-0.8.1rc2 transformers-3.1.0\n"
          ],
          "name": "stdout"
        },
        {
          "output_type": "display_data",
          "data": {
            "application/vnd.jupyter.widget-view+json": {
              "model_id": "7fc577d9d9704801aa06fed4a2b54e05",
              "version_minor": 0,
              "version_major": 2
            },
            "text/plain": [
              "HBox(children=(FloatProgress(value=0.0, description='Downloading', max=213450.0, style=ProgressStyle(descripti…"
            ]
          },
          "metadata": {
            "tags": []
          }
        },
        {
          "output_type": "stream",
          "text": [
            "\n"
          ],
          "name": "stdout"
        },
        {
          "output_type": "display_data",
          "data": {
            "application/vnd.jupyter.widget-view+json": {
              "model_id": "ae907dfa564a4f1c92c4ca8d89e0af9f",
              "version_minor": 0,
              "version_major": 2
            },
            "text/plain": [
              "HBox(children=(FloatProgress(value=0.0, description='Downloading', max=433.0, style=ProgressStyle(description_…"
            ]
          },
          "metadata": {
            "tags": []
          }
        },
        {
          "output_type": "stream",
          "text": [
            "\n"
          ],
          "name": "stdout"
        },
        {
          "output_type": "display_data",
          "data": {
            "application/vnd.jupyter.widget-view+json": {
              "model_id": "81aede3d925544d7a4b090d4e6b832d9",
              "version_minor": 0,
              "version_major": 2
            },
            "text/plain": [
              "HBox(children=(FloatProgress(value=0.0, description='Downloading', max=526681800.0, style=ProgressStyle(descri…"
            ]
          },
          "metadata": {
            "tags": []
          }
        },
        {
          "output_type": "stream",
          "text": [
            "\n"
          ],
          "name": "stdout"
        },
        {
          "output_type": "stream",
          "text": [
            "Some weights of the model checkpoint at bert-base-cased were not used when initializing TFBertForTokenClassification: ['nsp___cls', 'mlm___cls']\n",
            "- This IS expected if you are initializing TFBertForTokenClassification from the checkpoint of a model trained on another task or with another architecture (e.g. initializing a BertForSequenceClassification model from a BertForPretraining model).\n",
            "- This IS NOT expected if you are initializing TFBertForTokenClassification from the checkpoint of a model that you expect to be exactly identical (initializing a BertForSequenceClassification model from a BertForSequenceClassification model).\n",
            "Some weights of TFBertForTokenClassification were not initialized from the model checkpoint at bert-base-cased and are newly initialized: ['dropout_37', 'classifier']\n",
            "You should probably TRAIN this model on a down-stream task to be able to use it for predictions and inference.\n"
          ],
          "name": "stderr"
        }
      ]
    },
    {
      "cell_type": "markdown",
      "metadata": {
        "id": "KwvbXjqiMQi3",
        "colab_type": "text"
      },
      "source": [
        "## Data"
      ]
    },
    {
      "cell_type": "code",
      "metadata": {
        "id": "SAAspZkBJvsw",
        "colab_type": "code",
        "cellView": "form",
        "colab": {}
      },
      "source": [
        "#@title Dataset Placeholder\n",
        "#@markdown Example dataset inside\n",
        "categories = ['soc.religion.christian']\n",
        "from sklearn.datasets import fetch_20newsgroups\n",
        "data = fetch_20newsgroups(subset='all', categories=categories, shuffle=True, random_state=42)\n",
        "data = data.data"
      ],
      "execution_count": null,
      "outputs": []
    },
    {
      "cell_type": "code",
      "metadata": {
        "id": "OGFTFHMrLux1",
        "colab_type": "code",
        "colab": {}
      },
      "source": [
        "# Another example\n",
        "# Use non-english name to force tokenizer splitting\n",
        "data = [\"Hello, my name is Yukko.\"] # Yukko becomes [Yu, ##k, ##ko] when tokenized\n",
        "labels = [ \"O\", \"O\", \"N\", \"O\", \"NAME\" ]\n",
        "label_dict = {\"O\" : 0, \"NAME\" : 1, \"N\" : 2 }\n",
        "# translate data set to ids\n",
        "label_ids = [[ 0, 0, 2, 0, 1 ]]"
      ],
      "execution_count": null,
      "outputs": []
    },
    {
      "cell_type": "code",
      "metadata": {
        "id": "KbIR3cCEMOQY",
        "colab_type": "code",
        "colab": {}
      },
      "source": [
        "dict_data = tokenizer(data, return_tensors=\"tf\", truncation=True, padding='max_length', max_length=512)"
      ],
      "execution_count": null,
      "outputs": []
    },
    {
      "cell_type": "code",
      "metadata": {
        "id": "cs2SvPRSMpKZ",
        "colab_type": "code",
        "colab": {}
      },
      "source": [
        "# apply entity label adjustment to all input/label_ids\n",
        "dict_data[\"label_ids\"] = [0] * len(dict_data[\"input_ids\"])\n",
        "for i in range(len(dict_data[\"input_ids\"])):\n",
        "  dict_data[\"label_ids\"][i] = tf.convert_to_tensor(     entity_label_adjustment(dict_data[\"input_ids\"][i],label_ids[i],tokenizer, label_dict)        , dtype=tf.int8 )\n",
        "  if len(dict_data[\"label_ids\"][0]) != len(dict_data[\"input_ids\"][0]):\n",
        "    print('Error in entity label adjustment!!!')\n",
        "    print('Unknown character encountered: recommended update adjustment function')\n",
        "    break\n",
        "\n",
        "dict_data[\"label_ids\"] = tf.reshape(dict_data[\"label_ids\"], (1,512) ) # reshape for training"
      ],
      "execution_count": null,
      "outputs": []
    },
    {
      "cell_type": "markdown",
      "metadata": {
        "id": "syuutTBgMLC3",
        "colab_type": "text"
      },
      "source": [
        "## Configure, Compile, and Train"
      ]
    },
    {
      "cell_type": "code",
      "metadata": {
        "id": "4D5Huy9fKs4y",
        "colab_type": "code",
        "colab": {}
      },
      "source": [
        "optimizer = tf.keras.optimizers.Adam()\n",
        "loss = tf.keras.losses.SparseCategoricalCrossentropy(from_logits=True)\n",
        "metric = tf.keras.metrics.SparseCategoricalAccuracy('accuracy')\n",
        "\n",
        "model.compile(optimizer=optimizer, loss=loss, metrics=[metric])"
      ],
      "execution_count": null,
      "outputs": []
    },
    {
      "cell_type": "code",
      "metadata": {
        "id": "2QAlpJIwKs91",
        "colab_type": "code",
        "colab": {
          "base_uri": "https://localhost:8080/",
          "height": 227
        },
        "outputId": "b1d72740-3ad1-4caf-c140-d25568fcc2e5"
      },
      "source": [
        "model_history = model.fit( [dict_data[\"input_ids\"], dict_data[\"attention_mask\"], dict_data[\"token_type_ids\"]], [dict_data[\"label_ids\"]], verbose=1, batch_size=1, epochs=1)"
      ],
      "execution_count": null,
      "outputs": [
        {
          "output_type": "stream",
          "text": [
            "Epoch 1/3\n",
            "WARNING:tensorflow:Gradients do not exist for variables ['tf_bert_for_token_classification/bert/pooler/dense/kernel:0', 'tf_bert_for_token_classification/bert/pooler/dense/bias:0'] when minimizing the loss.\n",
            "WARNING:tensorflow:Gradients do not exist for variables ['tf_bert_for_token_classification/bert/pooler/dense/kernel:0', 'tf_bert_for_token_classification/bert/pooler/dense/bias:0'] when minimizing the loss.\n",
            "WARNING:tensorflow:Gradients do not exist for variables ['tf_bert_for_token_classification/bert/pooler/dense/kernel:0', 'tf_bert_for_token_classification/bert/pooler/dense/bias:0'] when minimizing the loss.\n",
            "WARNING:tensorflow:Gradients do not exist for variables ['tf_bert_for_token_classification/bert/pooler/dense/kernel:0', 'tf_bert_for_token_classification/bert/pooler/dense/bias:0'] when minimizing the loss.\n",
            "1/1 [==============================] - 0s 2ms/step - loss: 1.0147 - accuracy: 0.7070\n",
            "Epoch 2/3\n",
            "1/1 [==============================] - 0s 1ms/step - loss: 0.0571 - accuracy: 0.9902\n",
            "Epoch 3/3\n",
            "1/1 [==============================] - 0s 1ms/step - loss: 0.0488 - accuracy: 0.9922\n"
          ],
          "name": "stdout"
        }
      ]
    },
    {
      "cell_type": "markdown",
      "metadata": {
        "id": "2MxbvujdQ7ZZ",
        "colab_type": "text"
      },
      "source": [
        "## Other"
      ]
    },
    {
      "cell_type": "code",
      "metadata": {
        "id": "dTFXw5mrPnRv",
        "colab_type": "code",
        "cellView": "form",
        "colab": {
          "base_uri": "https://localhost:8080/",
          "height": 122
        },
        "outputId": "a9d94aea-3829-484b-c994-f4767535567d"
      },
      "source": [
        "#@title Print Useful Variables\n",
        "ids = dict_data.input_ids[0][0:15]\n",
        "input_ids = dict_data.input_ids[0][0:15]\n",
        "words = tokenizer.convert_ids_to_tokens(ids)\n",
        "output_labels = dict_data.label_ids[0][0:15]\n",
        "\n",
        "print(words)\n",
        "print(input_ids)\n",
        "print(output_labels)"
      ],
      "execution_count": null,
      "outputs": [
        {
          "output_type": "stream",
          "text": [
            "['[CLS]', 'Hello', ',', 'my', 'name', 'is', 'Yu', '##k', '##ko', '.', '[SEP]', '[PAD]', '[PAD]', '[PAD]', '[PAD]']\n",
            "tf.Tensor(\n",
            "[  101  8667   117  1139  1271  1110 10684  1377  2718   119   102     0\n",
            "     0     0     0], shape=(15,), dtype=int32)\n",
            "tf.Tensor([0 0 0 0 2 0 1 1 1 0 0 0 0 0 0], shape=(15,), dtype=int8)\n"
          ],
          "name": "stdout"
        }
      ]
    },
    {
      "cell_type": "code",
      "metadata": {
        "id": "AKtG-Dnv2Lst",
        "colab_type": "code",
        "cellView": "form",
        "colab": {}
      },
      "source": [
        "#@title Tests Cases\n",
        "sentence = \"Hello, my name is Yukko.\"\n",
        "label_ids = [ 0, 0, 2, 0, 1 ]\n",
        "label_dict = {\"O\" : 0, \"NAME\" : 1, \"N\" : 2 }\n",
        "dict_data = tokenizer(\"Hello, my name is Yukko.\", return_tensors=\"tf\", truncation=True, padding='max_length', max_length=512)\n",
        "ids = dict_data.input_ids[0][0:12]\n",
        "words = tokenizer.convert_ids_to_tokens(ids)\n",
        "print(words)\n",
        "seq_labels = entity_label_adjustment(ids,label_ids,tokenizer)\n",
        "print(seq_labels)\n",
        "print(len(seq_labels))\n",
        "print(len(ids))"
      ],
      "execution_count": null,
      "outputs": []
    }
  ]
}